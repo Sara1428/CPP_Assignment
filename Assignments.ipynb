{
  "cells": [
    {
      "cell_type": "markdown",
      "metadata": {
        "id": "view-in-github",
        "colab_type": "text"
      },
      "source": [
        "<a href=\"https://colab.research.google.com/github/Sara1428/CPP_Assignment/blob/main/Assignments.ipynb\" target=\"_parent\"><img src=\"https://colab.research.google.com/assets/colab-badge.svg\" alt=\"Open In Colab\"/></a>"
      ]
    },
    {
      "cell_type": "markdown",
      "metadata": {
        "id": "ihnaIZTUQPc0"
      },
      "source": [
        "# **Basic Python**"
      ]
    },
    {
      "cell_type": "markdown",
      "metadata": {
        "id": "1CccuzU7QPc3"
      },
      "source": [
        "## 1.a\n",
        "Give a function F that takes a single argument n. This function should print a sequence of n strings as described in the examples below: <br>\n",
        "Ex: **n = 3**\n",
        "\n",
        "--A--<br>\n",
        "-BAB-<br>\n",
        "CBABC<br>\n",
        "\n",
        "**n = 4**\n",
        "\n",
        "---A---<br>\n",
        "--BAB--<br>\n",
        "-CBABC-<br>\n",
        "DCBABCD"
      ]
    },
    {
      "cell_type": "code",
      "execution_count": null,
      "metadata": {
        "id": "B8C9EYUsQPc5",
        "outputId": "8c08e2dd-c4b4-419e-9a75-51199b2ba706",
        "colab": {
          "base_uri": "https://localhost:8080/"
        }
      },
      "outputs": [
        {
          "output_type": "stream",
          "name": "stdout",
          "text": [
            "---------A---------\n",
            "--------BAB--------\n",
            "-------CBABC-------\n",
            "------DCBABCD------\n",
            "-----EDCBABCDE-----\n",
            "----FEDCBABCDEF----\n",
            "---GFEDCBABCDEFG---\n",
            "--HGFEDCBABCDEFGH--\n",
            "-IHGFEDCBABCDEFGHI-\n",
            "JIHGFEDCBABCDEFGHIJ\n",
            "-----A-----\n",
            "----BAB----\n",
            "---CBABC---\n",
            "--DCBABCD--\n",
            "-EDCBABCDE-\n",
            "FEDCBABCDEF\n"
          ]
        }
      ],
      "source": [
        "def F(n):\n",
        "    for i in range(n):\n",
        "        chars = [chr(ord('A') + i-j) for j in range(i + 1)]\n",
        "        sequence = ''.join(chars + chars[-2::-1])\n",
        "        dashes = '-' * (n - i - 1)\n",
        "        print(dashes + sequence + dashes)\n",
        "\n",
        "# Tests\n",
        "F(10)\n",
        "F(6)"
      ]
    },
    {
      "cell_type": "markdown",
      "metadata": {
        "id": "Bq4jqGN0QPc6"
      },
      "source": [
        "## 1.b\n",
        "Make a function F that takes only one argument, a dictionary(dict) d.\n",
        "The keys of d are integers and the values of d are a tuple of type (x (int), y (int)).\n",
        "You must print out the dict in the format \"-key-, -x-, -y-\" with each entry in a new line. Print it for each of the three sorted orders, by key values ascending, by x values descending, by y values ascending."
      ]
    },
    {
      "cell_type": "code",
      "execution_count": null,
      "metadata": {
        "id": "_cRIKqyCQPc7",
        "outputId": "729fc880-16f1-4c08-f696-aa1fa48ef3cf",
        "colab": {
          "base_uri": "https://localhost:8080/"
        }
      },
      "outputs": [
        {
          "output_type": "stream",
          "name": "stdout",
          "text": [
            "Sorted by key (ascending):\n",
            "1, 1, 2\n",
            "2, -1, 4\n",
            "4, 2, 3\n",
            "5, -4, 3\n",
            "\n",
            "Sorted by x (descending):\n",
            "4, 2, 3\n",
            "1, 1, 2\n",
            "2, -1, 4\n",
            "5, -4, 3\n",
            "\n",
            "Sorted by y (ascending):\n",
            "1, 1, 2 \n",
            "5, -4, 3 \n",
            "4, 2, 3 \n",
            "2, -1, 4 \n",
            "Sorted by key (ascending):\n",
            "-8, 4, 2\n",
            "5, 9, -10\n",
            "6, -3, 4\n",
            "7, 2, 1\n",
            "\n",
            "Sorted by x (descending):\n",
            "5, 9, -10\n",
            "-8, 4, 2\n",
            "7, 2, 1\n",
            "6, -3, 4\n",
            "\n",
            "Sorted by y (ascending):\n",
            "5, 9, -10 \n",
            "7, 2, 1 \n",
            "-8, 4, 2 \n",
            "6, -3, 4 \n"
          ]
        }
      ],
      "source": [
        "def F(d : dict):\n",
        "    # sorting by key values ascending\n",
        "    sorted_by_key = sorted(d.items())\n",
        "    print(\"Sorted by key (ascending):\")\n",
        "    for key, (x, y) in sorted_by_key:\n",
        "        print(f\"{key}, {x}, {y}\")\n",
        "\n",
        "    # sorting by x values (descending)\n",
        "    sorted_by_x = sorted(d.items(), key=lambda item: item[1][0], reverse=True)\n",
        "    print(\"\\nSorted by x (descending):\")\n",
        "    for key, (x, y) in sorted_by_x:\n",
        "        print(f\"{key}, {x}, {y}\")\n",
        "\n",
        "    # sorting by y values (ascending)\n",
        "    sorted_by_y = sorted(d.items(), key=lambda item: item[1][1])\n",
        "    print(\"\\nSorted by y (ascending):\")\n",
        "    for key, (x, y) in sorted_by_y:\n",
        "        print(f\"{key}, {x}, {y} \")\n",
        "\n",
        "# Tests\n",
        "F({1 : (1, 2), 2 : (-1, 4), 5 : (-4, 3), 4 : (2, 3)})\n",
        "F({-8 : (4, 2), 6 : (-3, 4), 7 : (2, 1), 5 : (9, -10)})"
      ]
    },
    {
      "cell_type": "markdown",
      "metadata": {
        "id": "Yl3_5yc6QPc8"
      },
      "source": [
        "## 2 Working with Student Records\n",
        "\n",
        "Use the data in **student_records.csv** to complete the given tasks. Do not include any external libraries. Use a Python dictionary if required.\n",
        "\n",
        "### Reference\n",
        "- [Python Dictionaries](https://www.w3schools.com/python/python_dictionaries.asp)\n"
      ]
    },
    {
      "cell_type": "markdown",
      "metadata": {
        "id": "kAQ_xZPXQPc9"
      },
      "source": [
        "#### 2.a: open the student_records.csv file and print out the first 10 rows"
      ]
    },
    {
      "cell_type": "code",
      "execution_count": null,
      "metadata": {
        "id": "SgD_FNIbQPc9",
        "outputId": "1c0ea936-731b-4278-b1b7-3054a0970265",
        "colab": {
          "base_uri": "https://localhost:8080/"
        }
      },
      "outputs": [
        {
          "output_type": "stream",
          "name": "stdout",
          "text": [
            "roll_number,department,credit,course_name,course_type,grade\n",
            "588946,MA,3,EC250,hasmed_elective,AB\n",
            "145372,EP,4,EP407,hasmed_elective,CC\n",
            "834515,MA,8,EP885,hasmed_elective,BB\n",
            "344265,CSE,6,CSE699,honours,AB\n",
            "358405,MA,3,EE460,minor,AP\n",
            "781075,CE,8,CE540,honours,CC\n",
            "180828,CSE,6,CE880,minor,AB\n",
            "981238,MM,4,CSE226,minor,AB\n",
            "836881,MM,8,MM530,core,AA\n"
          ]
        }
      ],
      "source": [
        "#TODO\n",
        "with open('student_records.csv', 'r') as file:\n",
        "        lines = file.readlines()\n",
        "        for i in range(min(10, len(lines))):\n",
        "            print(lines[i].strip())"
      ]
    },
    {
      "cell_type": "markdown",
      "metadata": {
        "id": "ONOr3X-MQPc-"
      },
      "source": [
        "#### 2.b: Print out the total credits and calculte CPI of each student.\n",
        "CPI is the weighted average of core courses, and electives (weights being the letter grades converted to number AP,AA=10, AB=9, BB=8, BC=7, CC=6)"
      ]
    },
    {
      "cell_type": "code",
      "execution_count": null,
      "metadata": {
        "id": "ygnMIK7IQPc_",
        "outputId": "12bd36d8-06ae-471f-b399-baf101aca127",
        "colab": {
          "base_uri": "https://localhost:8080/"
        }
      },
      "outputs": [
        {
          "output_type": "stream",
          "name": "stdout",
          "text": [
            "Roll Number: 588946\n",
            "Total Credits: 199\n",
            "CPI: 8.67\n",
            "----------------------------------------\n",
            "Roll Number: 145372\n",
            "Total Credits: 173\n",
            "CPI: 7.43\n",
            "----------------------------------------\n",
            "Roll Number: 834515\n",
            "Total Credits: 199\n",
            "CPI: 8.10\n",
            "----------------------------------------\n",
            "Roll Number: 344265\n",
            "Total Credits: 153\n",
            "CPI: 8.90\n",
            "----------------------------------------\n",
            "Roll Number: 358405\n",
            "Total Credits: 206\n",
            "CPI: 8.21\n",
            "----------------------------------------\n",
            "Roll Number: 781075\n",
            "Total Credits: 246\n",
            "CPI: 8.47\n",
            "----------------------------------------\n",
            "Roll Number: 180828\n",
            "Total Credits: 177\n",
            "CPI: 7.90\n",
            "----------------------------------------\n",
            "Roll Number: 981238\n",
            "Total Credits: 168\n",
            "CPI: 8.28\n",
            "----------------------------------------\n",
            "Roll Number: 836881\n",
            "Total Credits: 246\n",
            "CPI: 7.92\n",
            "----------------------------------------\n",
            "Roll Number: 310604\n",
            "Total Credits: 198\n",
            "CPI: 8.22\n",
            "----------------------------------------\n",
            "Roll Number: 847809\n",
            "Total Credits: 261\n",
            "CPI: 8.27\n",
            "----------------------------------------\n",
            "Roll Number: 773982\n",
            "Total Credits: 264\n",
            "CPI: 7.78\n",
            "----------------------------------------\n",
            "Roll Number: 500658\n",
            "Total Credits: 208\n",
            "CPI: 8.12\n",
            "----------------------------------------\n",
            "Roll Number: 810863\n",
            "Total Credits: 192\n",
            "CPI: 8.06\n",
            "----------------------------------------\n",
            "Roll Number: 124663\n",
            "Total Credits: 229\n",
            "CPI: 8.23\n",
            "----------------------------------------\n",
            "Roll Number: 364146\n",
            "Total Credits: 225\n",
            "CPI: 8.77\n",
            "----------------------------------------\n",
            "Roll Number: 871746\n",
            "Total Credits: 216\n",
            "CPI: 7.79\n",
            "----------------------------------------\n",
            "Roll Number: 270007\n",
            "Total Credits: 241\n",
            "CPI: 7.75\n",
            "----------------------------------------\n",
            "Roll Number: 597353\n",
            "Total Credits: 200\n",
            "CPI: 8.08\n",
            "----------------------------------------\n",
            "Roll Number: 986057\n",
            "Total Credits: 199\n",
            "CPI: 7.93\n",
            "----------------------------------------\n",
            "Roll Number: 718510\n",
            "Total Credits: 184\n",
            "CPI: 8.70\n",
            "----------------------------------------\n",
            "Roll Number: 836431\n",
            "Total Credits: 160\n",
            "CPI: 7.65\n",
            "----------------------------------------\n",
            "Roll Number: 379479\n",
            "Total Credits: 260\n",
            "CPI: 8.17\n",
            "----------------------------------------\n",
            "Roll Number: 582912\n",
            "Total Credits: 221\n",
            "CPI: 9.28\n",
            "----------------------------------------\n",
            "Roll Number: 788020\n",
            "Total Credits: 193\n",
            "CPI: 8.09\n",
            "----------------------------------------\n",
            "Roll Number: 613401\n",
            "Total Credits: 209\n",
            "CPI: 8.25\n",
            "----------------------------------------\n",
            "Roll Number: 144528\n",
            "Total Credits: 228\n",
            "CPI: 8.57\n",
            "----------------------------------------\n",
            "Roll Number: 485484\n",
            "Total Credits: 216\n",
            "CPI: 8.66\n",
            "----------------------------------------\n",
            "Roll Number: 680096\n",
            "Total Credits: 153\n",
            "CPI: 8.35\n",
            "----------------------------------------\n",
            "Roll Number: 199713\n",
            "Total Credits: 172\n",
            "CPI: 7.98\n",
            "----------------------------------------\n",
            "Roll Number: 851029\n",
            "Total Credits: 161\n",
            "CPI: 8.25\n",
            "----------------------------------------\n",
            "Roll Number: 845623\n",
            "Total Credits: 237\n",
            "CPI: 8.53\n",
            "----------------------------------------\n",
            "Roll Number: 150503\n",
            "Total Credits: 173\n",
            "CPI: 8.43\n",
            "----------------------------------------\n",
            "Roll Number: 214270\n",
            "Total Credits: 229\n",
            "CPI: 7.51\n",
            "----------------------------------------\n",
            "Roll Number: 517837\n",
            "Total Credits: 205\n",
            "CPI: 8.33\n",
            "----------------------------------------\n",
            "Roll Number: 482623\n",
            "Total Credits: 254\n",
            "CPI: 8.52\n",
            "----------------------------------------\n",
            "Roll Number: 721490\n",
            "Total Credits: 235\n",
            "CPI: 8.35\n",
            "----------------------------------------\n",
            "Roll Number: 955757\n",
            "Total Credits: 251\n",
            "CPI: 8.03\n",
            "----------------------------------------\n",
            "Roll Number: 589528\n",
            "Total Credits: 153\n",
            "CPI: 8.54\n",
            "----------------------------------------\n",
            "Roll Number: 143856\n",
            "Total Credits: 201\n",
            "CPI: 8.49\n",
            "----------------------------------------\n",
            "Roll Number: 571782\n",
            "Total Credits: 217\n",
            "CPI: 8.22\n",
            "----------------------------------------\n",
            "Roll Number: 973158\n",
            "Total Credits: 193\n",
            "CPI: 8.38\n",
            "----------------------------------------\n",
            "Roll Number: 703403\n",
            "Total Credits: 254\n",
            "CPI: 8.52\n",
            "----------------------------------------\n",
            "Roll Number: 960395\n",
            "Total Credits: 262\n",
            "CPI: 8.83\n",
            "----------------------------------------\n",
            "Roll Number: 521087\n",
            "Total Credits: 223\n",
            "CPI: 7.60\n",
            "----------------------------------------\n",
            "Roll Number: 461971\n",
            "Total Credits: 252\n",
            "CPI: 8.39\n",
            "----------------------------------------\n",
            "Roll Number: 879634\n",
            "Total Credits: 203\n",
            "CPI: 8.72\n",
            "----------------------------------------\n",
            "Roll Number: 716985\n",
            "Total Credits: 185\n",
            "CPI: 7.74\n",
            "----------------------------------------\n",
            "Roll Number: 194063\n",
            "Total Credits: 157\n",
            "CPI: 7.95\n",
            "----------------------------------------\n",
            "Roll Number: 265922\n",
            "Total Credits: 236\n",
            "CPI: 8.25\n",
            "----------------------------------------\n",
            "Roll Number: 283796\n",
            "Total Credits: 211\n",
            "CPI: 8.88\n",
            "----------------------------------------\n",
            "Roll Number: 203200\n",
            "Total Credits: 157\n",
            "CPI: 8.65\n",
            "----------------------------------------\n",
            "Roll Number: 301135\n",
            "Total Credits: 206\n",
            "CPI: 8.32\n",
            "----------------------------------------\n",
            "Roll Number: 327122\n",
            "Total Credits: 246\n",
            "CPI: 8.24\n",
            "----------------------------------------\n",
            "Roll Number: 381526\n",
            "Total Credits: 160\n",
            "CPI: 7.94\n",
            "----------------------------------------\n",
            "Roll Number: 534763\n",
            "Total Credits: 158\n",
            "CPI: 7.84\n",
            "----------------------------------------\n",
            "Roll Number: 391848\n",
            "Total Credits: 217\n",
            "CPI: 8.35\n",
            "----------------------------------------\n",
            "Roll Number: 329535\n",
            "Total Credits: 157\n",
            "CPI: 8.26\n",
            "----------------------------------------\n",
            "Roll Number: 971123\n",
            "Total Credits: 210\n",
            "CPI: 7.55\n",
            "----------------------------------------\n",
            "Roll Number: 207443\n",
            "Total Credits: 161\n",
            "CPI: 8.19\n",
            "----------------------------------------\n",
            "Roll Number: 488661\n",
            "Total Credits: 248\n",
            "CPI: 8.45\n",
            "----------------------------------------\n",
            "Roll Number: 782129\n",
            "Total Credits: 184\n",
            "CPI: 8.62\n",
            "----------------------------------------\n",
            "Roll Number: 928288\n",
            "Total Credits: 191\n",
            "CPI: 8.85\n",
            "----------------------------------------\n",
            "Roll Number: 581858\n",
            "Total Credits: 216\n",
            "CPI: 7.82\n",
            "----------------------------------------\n",
            "Roll Number: 733782\n",
            "Total Credits: 169\n",
            "CPI: 8.64\n",
            "----------------------------------------\n",
            "Roll Number: 282482\n",
            "Total Credits: 228\n",
            "CPI: 7.88\n",
            "----------------------------------------\n",
            "Roll Number: 572815\n",
            "Total Credits: 212\n",
            "CPI: 8.59\n",
            "----------------------------------------\n",
            "Roll Number: 608952\n",
            "Total Credits: 251\n",
            "CPI: 8.31\n",
            "----------------------------------------\n",
            "Roll Number: 628849\n",
            "Total Credits: 183\n",
            "CPI: 9.11\n",
            "----------------------------------------\n",
            "Roll Number: 630568\n",
            "Total Credits: 217\n",
            "CPI: 8.42\n",
            "----------------------------------------\n",
            "Roll Number: 388969\n",
            "Total Credits: 229\n",
            "CPI: 8.40\n",
            "----------------------------------------\n",
            "Roll Number: 159438\n",
            "Total Credits: 176\n",
            "CPI: 8.43\n",
            "----------------------------------------\n",
            "Roll Number: 478606\n",
            "Total Credits: 244\n",
            "CPI: 8.69\n",
            "----------------------------------------\n",
            "Roll Number: 995208\n",
            "Total Credits: 157\n",
            "CPI: 7.59\n",
            "----------------------------------------\n",
            "Roll Number: 841365\n",
            "Total Credits: 177\n",
            "CPI: 8.02\n",
            "----------------------------------------\n",
            "Roll Number: 870642\n",
            "Total Credits: 161\n",
            "CPI: 8.17\n",
            "----------------------------------------\n",
            "Roll Number: 970791\n",
            "Total Credits: 220\n",
            "CPI: 7.94\n",
            "----------------------------------------\n",
            "Roll Number: 143142\n",
            "Total Credits: 234\n",
            "CPI: 8.56\n",
            "----------------------------------------\n",
            "Roll Number: 998293\n",
            "Total Credits: 207\n",
            "CPI: 8.56\n",
            "----------------------------------------\n",
            "Roll Number: 907454\n",
            "Total Credits: 245\n",
            "CPI: 8.03\n",
            "----------------------------------------\n",
            "Roll Number: 681499\n",
            "Total Credits: 234\n",
            "CPI: 8.25\n",
            "----------------------------------------\n",
            "Roll Number: 888886\n",
            "Total Credits: 207\n",
            "CPI: 8.28\n",
            "----------------------------------------\n",
            "Roll Number: 608522\n",
            "Total Credits: 159\n",
            "CPI: 8.78\n",
            "----------------------------------------\n",
            "Roll Number: 362471\n",
            "Total Credits: 214\n",
            "CPI: 8.11\n",
            "----------------------------------------\n",
            "Roll Number: 465496\n",
            "Total Credits: 168\n",
            "CPI: 8.35\n",
            "----------------------------------------\n",
            "Roll Number: 208100\n",
            "Total Credits: 182\n",
            "CPI: 8.73\n",
            "----------------------------------------\n",
            "Roll Number: 138296\n",
            "Total Credits: 200\n",
            "CPI: 7.99\n",
            "----------------------------------------\n",
            "Roll Number: 775967\n",
            "Total Credits: 197\n",
            "CPI: 8.78\n",
            "----------------------------------------\n",
            "Roll Number: 692318\n",
            "Total Credits: 216\n",
            "CPI: 8.09\n",
            "----------------------------------------\n",
            "Roll Number: 461584\n",
            "Total Credits: 234\n",
            "CPI: 8.48\n",
            "----------------------------------------\n",
            "Roll Number: 626000\n",
            "Total Credits: 210\n",
            "CPI: 8.32\n",
            "----------------------------------------\n",
            "Roll Number: 458200\n",
            "Total Credits: 190\n",
            "CPI: 8.72\n",
            "----------------------------------------\n",
            "Roll Number: 581065\n",
            "Total Credits: 196\n",
            "CPI: 8.07\n",
            "----------------------------------------\n",
            "Roll Number: 787967\n",
            "Total Credits: 192\n",
            "CPI: 8.77\n",
            "----------------------------------------\n",
            "Roll Number: 381227\n",
            "Total Credits: 179\n",
            "CPI: 8.04\n",
            "----------------------------------------\n",
            "Roll Number: 750259\n",
            "Total Credits: 209\n",
            "CPI: 8.31\n",
            "----------------------------------------\n",
            "Roll Number: 881983\n",
            "Total Credits: 169\n",
            "CPI: 8.20\n",
            "----------------------------------------\n",
            "Roll Number: 294697\n",
            "Total Credits: 269\n",
            "CPI: 8.49\n",
            "----------------------------------------\n",
            "Roll Number: 816041\n",
            "Total Credits: 158\n",
            "CPI: 7.79\n",
            "----------------------------------------\n",
            "Roll Number: 993835\n",
            "Total Credits: 175\n",
            "CPI: 8.42\n",
            "----------------------------------------\n"
          ]
        }
      ],
      "source": [
        "#TODO\n",
        "def calculate_cpi_from_csv(filename):\n",
        "\n",
        "    grade_to_points = {\n",
        "        'AP': 10, 'AA': 10,\n",
        "        'AB': 9,\n",
        "        'BB': 8,\n",
        "        'BC': 7,\n",
        "        'CC': 6,\n",
        "        'CD' : 5,\n",
        "        'DD' : 4,\n",
        "        'FF' : 0,\n",
        "        'FR' : 0\n",
        "    }\n",
        "\n",
        "    student_data = {}\n",
        "    with open(filename, 'r') as file:\n",
        "        next(file)\n",
        "        for line in file:\n",
        "            columns = line.strip().split(',')\n",
        "            roll_number = int(columns[0])\n",
        "            department = columns[1]\n",
        "            credit = int(columns[2])\n",
        "            course_name = columns[3]\n",
        "            course_type = columns[4]\n",
        "            grade = columns[5]\n",
        "            #print(roll_number, department, credit, course_name, course_type, grade)\n",
        "\n",
        "            if roll_number not in student_data:\n",
        "                student_data[roll_number] = {\n",
        "                    'total_credits': 0,\n",
        "                    'total_weighted_credits' : 0,\n",
        "                    'total_weighted_points': 0\n",
        "                }\n",
        "\n",
        "            grade_points = grade_to_points.get(grade, 0)\n",
        "\n",
        "            student_data[roll_number]['total_credits'] += credit\n",
        "            if (course_type == \"core\") :\n",
        "              student_data[roll_number]['total_weighted_credits'] += credit\n",
        "              student_data[roll_number]['total_weighted_points'] += credit * grade_points\n",
        "            else :\n",
        "              if \"elective\" in course_type :\n",
        "                student_data[roll_number]['total_weighted_credits'] += credit\n",
        "                student_data[roll_number]['total_weighted_points'] += credit * grade_points\n",
        "\n",
        "\n",
        "    for roll_number, data in student_data.items():\n",
        "        total_credits = data['total_credits']\n",
        "        total_weighted_points = data['total_weighted_points']\n",
        "        total_weighted_credits = data['total_weighted_credits']\n",
        "\n",
        "        if total_credits > 0:\n",
        "            cpi = total_weighted_points / total_weighted_credits\n",
        "        else:\n",
        "            cpi = 0\n",
        "\n",
        "        print(f\"Roll Number: {roll_number}\")\n",
        "        print(f\"Total Credits: {total_credits}\")\n",
        "        print(f\"CPI: {cpi:.2f}\")\n",
        "        print(\"-\" * 40)\n",
        "\n",
        "calculate_cpi_from_csv('student_records.csv')\n"
      ]
    },
    {
      "cell_type": "markdown",
      "metadata": {
        "id": "gJufMLFmQPdA"
      },
      "source": [
        "#### 2.c: Print out the roll numbers of all students who meet the graduation requirements\n",
        "Atleast 20 credist of core course, 15 credits of department elective, 10 credits of flexible elective and 5 credits of hasmed electives"
      ]
    },
    {
      "cell_type": "code",
      "execution_count": null,
      "metadata": {
        "id": "4zZi_6RhQPdA",
        "outputId": "beb188b3-608c-412b-c41b-8eb436cc6572",
        "colab": {
          "base_uri": "https://localhost:8080/"
        }
      },
      "outputs": [
        {
          "output_type": "stream",
          "name": "stdout",
          "text": [
            "Students who meet graduation requirements:\n",
            "Roll Number: 588946\n",
            "Roll Number: 834515\n",
            "Roll Number: 781075\n",
            "Roll Number: 180828\n",
            "Roll Number: 981238\n",
            "Roll Number: 836881\n",
            "Roll Number: 310604\n",
            "Roll Number: 773982\n",
            "Roll Number: 500658\n",
            "Roll Number: 810863\n",
            "Roll Number: 124663\n",
            "Roll Number: 871746\n",
            "Roll Number: 986057\n",
            "Roll Number: 379479\n",
            "Roll Number: 144528\n",
            "Roll Number: 485484\n",
            "Roll Number: 845623\n",
            "Roll Number: 150503\n",
            "Roll Number: 214270\n",
            "Roll Number: 517837\n",
            "Roll Number: 482623\n",
            "Roll Number: 721490\n",
            "Roll Number: 955757\n",
            "Roll Number: 143856\n",
            "Roll Number: 571782\n",
            "Roll Number: 973158\n",
            "Roll Number: 703403\n",
            "Roll Number: 960395\n",
            "Roll Number: 521087\n",
            "Roll Number: 461971\n",
            "Roll Number: 879634\n",
            "Roll Number: 716985\n",
            "Roll Number: 265922\n",
            "Roll Number: 283796\n",
            "Roll Number: 203200\n",
            "Roll Number: 327122\n",
            "Roll Number: 534763\n",
            "Roll Number: 391848\n",
            "Roll Number: 971123\n",
            "Roll Number: 207443\n",
            "Roll Number: 488661\n",
            "Roll Number: 782129\n",
            "Roll Number: 928288\n",
            "Roll Number: 581858\n",
            "Roll Number: 282482\n",
            "Roll Number: 572815\n",
            "Roll Number: 608952\n",
            "Roll Number: 628849\n",
            "Roll Number: 630568\n",
            "Roll Number: 388969\n",
            "Roll Number: 159438\n",
            "Roll Number: 970791\n",
            "Roll Number: 143142\n",
            "Roll Number: 998293\n",
            "Roll Number: 681499\n",
            "Roll Number: 888886\n",
            "Roll Number: 608522\n",
            "Roll Number: 362471\n",
            "Roll Number: 692318\n",
            "Roll Number: 626000\n",
            "Roll Number: 581065\n",
            "Roll Number: 787967\n",
            "Roll Number: 381227\n",
            "Roll Number: 750259\n",
            "Roll Number: 881983\n",
            "Roll Number: 294697\n"
          ]
        }
      ],
      "source": [
        "#TODO\n",
        "student_data = {}\n",
        "\n",
        "with open('student_records.csv', 'r') as file:\n",
        "\n",
        "    next(file)\n",
        "    for line in file:\n",
        "        columns = line.strip().split(',')\n",
        "        roll_number = int(columns[0])\n",
        "        department = columns[1]\n",
        "        credit = int(columns[2])\n",
        "        course_name = columns[3]\n",
        "        course_type = columns[4]\n",
        "        grade = columns[5]\n",
        "\n",
        "        if roll_number not in student_data:\n",
        "            student_data[roll_number] = {\n",
        "                'core': 0,\n",
        "                'department_elective': 0,\n",
        "                'flexible_elective': 0,\n",
        "                'hasmed_elective': 0,\n",
        "                'minor': 0,\n",
        "                'honours': 0\n",
        "            }\n",
        "\n",
        "        if course_type == 'core':\n",
        "            student_data[roll_number]['core'] += credit\n",
        "        elif course_type == 'department_elective':\n",
        "            student_data[roll_number]['department_elective'] += credit\n",
        "        elif course_type == 'flexible_elective':\n",
        "            student_data[roll_number]['flexible_elective'] += credit\n",
        "        elif course_type == 'hasmed_elective':\n",
        "            student_data[roll_number]['hasmed_elective'] += credit\n",
        "        elif course_type == 'minor' :\n",
        "          student_data[roll_number]['minor'] += credit\n",
        "        elif course_type == 'honours' :\n",
        "          student_data[roll_number]['honours'] += credit\n",
        "\n",
        "print(\"Students who meet graduation requirements:\")\n",
        "\n",
        "for roll_number, data in student_data.items():\n",
        "\n",
        "    core_courses = data['core']\n",
        "    department_electives = data['department_elective']\n",
        "    flexible_electives = data['flexible_elective']\n",
        "    hasmed_electives = data['hasmed_elective']\n",
        "\n",
        "    if (core_courses >= 20 and\n",
        "        department_electives >= 15 and\n",
        "        flexible_electives >= 10 and\n",
        "        hasmed_electives >= 5):\n",
        "        print(f\"Roll Number: {roll_number}\")\n",
        "\n",
        "\n"
      ]
    },
    {
      "cell_type": "markdown",
      "metadata": {
        "id": "ro3sFUV4QPdB"
      },
      "source": [
        "#### 2.d: Print out the roll numbers of all students who completed a minor\n",
        "Atleast 10 credits with minor tag in a specific department"
      ]
    },
    {
      "cell_type": "code",
      "execution_count": null,
      "metadata": {
        "id": "Er4JMbEuQPdB",
        "outputId": "474bb052-94c7-4c36-bec2-b9ab1ed30170",
        "colab": {
          "base_uri": "https://localhost:8080/"
        }
      },
      "outputs": [
        {
          "output_type": "stream",
          "name": "stdout",
          "text": [
            "Roll Number: 588946, minor credits obtained: 37\n",
            "Roll Number: 145372, minor credits obtained: 33\n",
            "Roll Number: 834515, minor credits obtained: 15\n",
            "Roll Number: 344265, minor credits obtained: 28\n",
            "Roll Number: 358405, minor credits obtained: 29\n",
            "Roll Number: 781075, minor credits obtained: 20\n",
            "Roll Number: 180828, minor credits obtained: 15\n",
            "Roll Number: 981238, minor credits obtained: 22\n",
            "Roll Number: 836881, minor credits obtained: 52\n",
            "Roll Number: 847809, minor credits obtained: 66\n",
            "Roll Number: 773982, minor credits obtained: 25\n",
            "Roll Number: 500658, minor credits obtained: 21\n",
            "Roll Number: 810863, minor credits obtained: 36\n",
            "Roll Number: 124663, minor credits obtained: 37\n",
            "Roll Number: 364146, minor credits obtained: 37\n",
            "Roll Number: 871746, minor credits obtained: 14\n",
            "Roll Number: 270007, minor credits obtained: 22\n",
            "Roll Number: 597353, minor credits obtained: 70\n",
            "Roll Number: 986057, minor credits obtained: 13\n",
            "Roll Number: 718510, minor credits obtained: 24\n",
            "Roll Number: 836431, minor credits obtained: 31\n",
            "Roll Number: 379479, minor credits obtained: 38\n",
            "Roll Number: 582912, minor credits obtained: 27\n",
            "Roll Number: 788020, minor credits obtained: 37\n",
            "Roll Number: 613401, minor credits obtained: 26\n",
            "Roll Number: 144528, minor credits obtained: 23\n",
            "Roll Number: 485484, minor credits obtained: 14\n",
            "Roll Number: 680096, minor credits obtained: 22\n",
            "Roll Number: 199713, minor credits obtained: 36\n",
            "Roll Number: 851029, minor credits obtained: 12\n",
            "Roll Number: 845623, minor credits obtained: 19\n",
            "Roll Number: 150503, minor credits obtained: 15\n",
            "Roll Number: 214270, minor credits obtained: 35\n",
            "Roll Number: 517837, minor credits obtained: 20\n",
            "Roll Number: 482623, minor credits obtained: 48\n",
            "Roll Number: 721490, minor credits obtained: 27\n",
            "Roll Number: 955757, minor credits obtained: 30\n",
            "Roll Number: 143856, minor credits obtained: 35\n",
            "Roll Number: 571782, minor credits obtained: 38\n",
            "Roll Number: 973158, minor credits obtained: 32\n",
            "Roll Number: 703403, minor credits obtained: 53\n",
            "Roll Number: 960395, minor credits obtained: 44\n",
            "Roll Number: 521087, minor credits obtained: 30\n",
            "Roll Number: 461971, minor credits obtained: 45\n",
            "Roll Number: 879634, minor credits obtained: 37\n",
            "Roll Number: 716985, minor credits obtained: 38\n",
            "Roll Number: 194063, minor credits obtained: 12\n",
            "Roll Number: 265922, minor credits obtained: 27\n",
            "Roll Number: 283796, minor credits obtained: 32\n",
            "Roll Number: 203200, minor credits obtained: 22\n",
            "Roll Number: 301135, minor credits obtained: 29\n",
            "Roll Number: 327122, minor credits obtained: 10\n",
            "Roll Number: 381526, minor credits obtained: 34\n",
            "Roll Number: 534763, minor credits obtained: 15\n",
            "Roll Number: 391848, minor credits obtained: 28\n",
            "Roll Number: 329535, minor credits obtained: 27\n",
            "Roll Number: 971123, minor credits obtained: 22\n",
            "Roll Number: 207443, minor credits obtained: 10\n",
            "Roll Number: 488661, minor credits obtained: 11\n",
            "Roll Number: 782129, minor credits obtained: 23\n",
            "Roll Number: 581858, minor credits obtained: 23\n",
            "Roll Number: 733782, minor credits obtained: 32\n",
            "Roll Number: 282482, minor credits obtained: 12\n",
            "Roll Number: 572815, minor credits obtained: 33\n",
            "Roll Number: 608952, minor credits obtained: 18\n",
            "Roll Number: 628849, minor credits obtained: 45\n",
            "Roll Number: 630568, minor credits obtained: 30\n",
            "Roll Number: 388969, minor credits obtained: 43\n",
            "Roll Number: 159438, minor credits obtained: 30\n",
            "Roll Number: 478606, minor credits obtained: 38\n",
            "Roll Number: 995208, minor credits obtained: 24\n",
            "Roll Number: 841365, minor credits obtained: 21\n",
            "Roll Number: 970791, minor credits obtained: 20\n",
            "Roll Number: 143142, minor credits obtained: 30\n",
            "Roll Number: 998293, minor credits obtained: 12\n",
            "Roll Number: 907454, minor credits obtained: 50\n",
            "Roll Number: 681499, minor credits obtained: 36\n",
            "Roll Number: 888886, minor credits obtained: 40\n",
            "Roll Number: 608522, minor credits obtained: 19\n",
            "Roll Number: 362471, minor credits obtained: 39\n",
            "Roll Number: 465496, minor credits obtained: 46\n",
            "Roll Number: 208100, minor credits obtained: 35\n",
            "Roll Number: 138296, minor credits obtained: 29\n",
            "Roll Number: 775967, minor credits obtained: 23\n",
            "Roll Number: 692318, minor credits obtained: 17\n",
            "Roll Number: 461584, minor credits obtained: 43\n",
            "Roll Number: 626000, minor credits obtained: 21\n",
            "Roll Number: 458200, minor credits obtained: 35\n",
            "Roll Number: 581065, minor credits obtained: 39\n",
            "Roll Number: 787967, minor credits obtained: 16\n",
            "Roll Number: 381227, minor credits obtained: 29\n",
            "Roll Number: 750259, minor credits obtained: 13\n",
            "Roll Number: 881983, minor credits obtained: 20\n",
            "Roll Number: 294697, minor credits obtained: 14\n",
            "Roll Number: 816041, minor credits obtained: 26\n",
            "Roll Number: 993835, minor credits obtained: 34\n"
          ]
        }
      ],
      "source": [
        "#TODO\n",
        "for roll_number, data in student_data.items():\n",
        "    minor_credits = data['minor']\n",
        "    if minor_credits >= 10:\n",
        "        print(f\"Roll Number: {roll_number}, minor credits obtained: {minor_credits}\")"
      ]
    },
    {
      "cell_type": "markdown",
      "metadata": {
        "id": "u5UyIsWfQPdC"
      },
      "source": [
        "#### 2.e: Print out the roll numbers of all students who completed a honours\n",
        "Atleast 10 credits with honours tag and 20 core credits"
      ]
    },
    {
      "cell_type": "code",
      "execution_count": null,
      "metadata": {
        "id": "aT21bWb_QPdC",
        "outputId": "8d9af692-71ed-4ca9-db74-cb5ba4c20428",
        "colab": {
          "base_uri": "https://localhost:8080/"
        }
      },
      "outputs": [
        {
          "output_type": "stream",
          "name": "stdout",
          "text": [
            "Roll Number: 588946\n",
            "Roll Number: 145372\n",
            "Roll Number: 834515\n",
            "Roll Number: 781075\n",
            "Roll Number: 836881\n",
            "Roll Number: 310604\n",
            "Roll Number: 773982\n",
            "Roll Number: 500658\n",
            "Roll Number: 810863\n",
            "Roll Number: 124663\n",
            "Roll Number: 364146\n",
            "Roll Number: 871746\n",
            "Roll Number: 986057\n",
            "Roll Number: 718510\n",
            "Roll Number: 379479\n",
            "Roll Number: 582912\n",
            "Roll Number: 788020\n",
            "Roll Number: 613401\n",
            "Roll Number: 144528\n",
            "Roll Number: 485484\n",
            "Roll Number: 199713\n",
            "Roll Number: 845623\n",
            "Roll Number: 150503\n",
            "Roll Number: 214270\n",
            "Roll Number: 517837\n",
            "Roll Number: 482623\n",
            "Roll Number: 721490\n",
            "Roll Number: 955757\n",
            "Roll Number: 589528\n",
            "Roll Number: 143856\n",
            "Roll Number: 571782\n",
            "Roll Number: 973158\n",
            "Roll Number: 703403\n",
            "Roll Number: 960395\n",
            "Roll Number: 521087\n",
            "Roll Number: 461971\n",
            "Roll Number: 879634\n",
            "Roll Number: 716985\n",
            "Roll Number: 265922\n",
            "Roll Number: 283796\n",
            "Roll Number: 203200\n",
            "Roll Number: 327122\n",
            "Roll Number: 534763\n",
            "Roll Number: 391848\n",
            "Roll Number: 971123\n",
            "Roll Number: 207443\n",
            "Roll Number: 488661\n",
            "Roll Number: 782129\n",
            "Roll Number: 928288\n",
            "Roll Number: 581858\n",
            "Roll Number: 282482\n",
            "Roll Number: 572815\n",
            "Roll Number: 608952\n",
            "Roll Number: 628849\n",
            "Roll Number: 630568\n",
            "Roll Number: 388969\n",
            "Roll Number: 159438\n",
            "Roll Number: 870642\n",
            "Roll Number: 970791\n",
            "Roll Number: 143142\n",
            "Roll Number: 998293\n",
            "Roll Number: 681499\n",
            "Roll Number: 888886\n",
            "Roll Number: 608522\n",
            "Roll Number: 362471\n",
            "Roll Number: 465496\n",
            "Roll Number: 208100\n",
            "Roll Number: 692318\n",
            "Roll Number: 626000\n",
            "Roll Number: 458200\n",
            "Roll Number: 581065\n",
            "Roll Number: 787967\n",
            "Roll Number: 750259\n",
            "Roll Number: 881983\n",
            "Roll Number: 294697\n"
          ]
        }
      ],
      "source": [
        "#TODO\n",
        "for roll_number, data in student_data.items():\n",
        "    honours_credits = data['honours']\n",
        "    core_credits = data['core']\n",
        "    if honours_credits >= 10 and core_credits >= 20:\n",
        "        print(f\"Roll Number: {roll_number}\")"
      ]
    },
    {
      "cell_type": "markdown",
      "metadata": {
        "id": "JBcGn3-qQPdC"
      },
      "source": [
        "# **SciPy**"
      ]
    },
    {
      "cell_type": "markdown",
      "metadata": {
        "id": "lsIxFhMSQPdC"
      },
      "source": [
        "## Part A\n",
        "Minimize the function $f(x, y) = 2(x - y - 3)^2 + 4(x + 2y + 1)^4$.<br>\n",
        "With the constraints : $ x - y \\ge -3, (x + 2)^2 + (y + 1)^2 \\le 5$ <br>\n",
        "Using scipy.optimize.minimize with constraints. (Hint: Look at the examples in the official documentation)"
      ]
    },
    {
      "cell_type": "code",
      "execution_count": null,
      "metadata": {
        "id": "99dCX_uNQPdD",
        "outputId": "a9067161-90bd-4ec8-b4a0-779ac67eed52",
        "colab": {
          "base_uri": "https://localhost:8080/"
        }
      },
      "outputs": [
        {
          "output_type": "stream",
          "name": "stdout",
          "text": [
            "Optimal values of x and y:  [ 0.23492503 -0.92851489]\n",
            "Minimum value of the objective function:  7.345026216977383\n"
          ]
        }
      ],
      "source": [
        "#TODO\n",
        "import numpy as np\n",
        "from scipy.optimize import minimize\n",
        "\n",
        "def objective(x):\n",
        "    return 2 * (x[0] - x[1] - 3)**2 + 4 * (x[0] + 2*x[1] + 1)**4\n",
        "\n",
        "def constraint1(x):\n",
        "    return x[0] - x[1] + 3\n",
        "\n",
        "def constraint2(x):\n",
        "    return 5 - (x[0] + 2)**2 - (x[1] + 1)**2\n",
        "\n",
        "x0 = [0, 0]\n",
        "\n",
        "constraints = [\n",
        "    {'type': 'ineq', 'fun': constraint1},\n",
        "    {'type': 'ineq', 'fun': constraint2}\n",
        "]\n",
        "\n",
        "result = minimize(objective, x0, constraints=constraints, method='SLSQP')\n",
        "\n",
        "print(\"Optimal values of x and y: \", result.x)\n",
        "print(\"Minimum value of the objective function: \", result.fun)\n"
      ]
    },
    {
      "cell_type": "markdown",
      "metadata": {
        "id": "ijgMAKtmQPdD"
      },
      "source": [
        "# Part B\n",
        "Evaluate the line integral of the function $f(x, y) = x^2 + y^4$ along the circle $ x^2 + y^2 = 3 $ anticlockwise (scalar integral, not vector). You must use scipy for integration but you may use parameterization"
      ]
    },
    {
      "cell_type": "code",
      "execution_count": null,
      "metadata": {
        "id": "RnkZvTjJQPdD",
        "outputId": "f42fddf5-bbef-401c-aa93-4b896590d3e2",
        "colab": {
          "base_uri": "https://localhost:8080/"
        }
      },
      "outputs": [
        {
          "output_type": "stream",
          "name": "stdout",
          "text": [
            "Line integral result: 53.05363140385086\n"
          ]
        }
      ],
      "source": [
        "#TODO\n",
        "import numpy as np\n",
        "from scipy.integrate import quad\n",
        "\n",
        "def integrand(t):\n",
        "    term1 = 3 * np.cos(t)**2\n",
        "    term2 = 9 * np.sin(t)**4\n",
        "    return (term1 + term2) * np.sqrt(3)\n",
        "\n",
        "result, error = quad(integrand, 0, 2 * np.pi)\n",
        "\n",
        "print(\"Line integral result:\", result)\n"
      ]
    },
    {
      "cell_type": "markdown",
      "metadata": {
        "id": "8UY0mQphQPdE"
      },
      "source": [
        "# **Numpy**"
      ]
    },
    {
      "cell_type": "markdown",
      "metadata": {
        "id": "SvdI5DwyQPdE"
      },
      "source": [
        "### Read Lisan_Al_Gaib.pdf for problem description and complete the following functions"
      ]
    },
    {
      "cell_type": "code",
      "execution_count": null,
      "metadata": {
        "id": "bXSqPJyvQPdE"
      },
      "outputs": [],
      "source": [
        "import time # to time the execution\n",
        "import numpy as np\n",
        "import matplotlib.pyplot as plt"
      ]
    },
    {
      "cell_type": "code",
      "execution_count": null,
      "metadata": {
        "id": "a1Li8PIsQPdF"
      },
      "outputs": [],
      "source": [
        "### TODO 1\n",
        "### Load data from data_path\n",
        "### Check the input file spice_locations.txt to understand the Data Format\n",
        "### Return : np array of size Nx2\n",
        "def load_data(data_path):\n",
        "    data = np.loadtxt(data_path, delimiter=',')\n",
        "    return data"
      ]
    },
    {
      "cell_type": "code",
      "execution_count": null,
      "metadata": {
        "id": "yyqlzeKVQPdF"
      },
      "outputs": [],
      "source": [
        "### TODO 2.1\n",
        "### If init_centers is None, initialize the centers by selecting K data points at random without replacement\n",
        "### Else, use the centers provided in init_centers\n",
        "### Return : np array of size Kx2\n",
        "def initialise_centers(data, K, init_centers=None):\n",
        "    if init_centers is None:\n",
        "        random_indices = np.random.choice(data.shape[0], K, replace=False)\n",
        "        centers = data[random_indices]\n",
        "    else:\n",
        "        centers = init_centers\n",
        "    return centers"
      ]
    },
    {
      "cell_type": "code",
      "execution_count": null,
      "metadata": {
        "id": "CwtCHeBRQPdG"
      },
      "outputs": [],
      "source": [
        "### TODO 2.2\n",
        "### Initialize the labels to all ones to size (N,) where N is the number of data points\n",
        "### Return : np array of size N\n",
        "def initialise_labels(data):\n",
        "    labels = np.ones(data.shape[0], dtype=int)\n",
        "    return labels"
      ]
    },
    {
      "cell_type": "code",
      "execution_count": null,
      "metadata": {
        "id": "Q5SZ1SJfQPdG"
      },
      "outputs": [],
      "source": [
        "### TODO 3.1 : E step\n",
        "### For Each data point, find the distance to each center\n",
        "### Return : np array of size NxK\n",
        "def calculate_distances(data, centers):\n",
        "    dist_squared = np.sum((data[:, np.newaxis] - centers) ** 2, axis=2)\n",
        "    distances = np.sqrt(dist_squared)\n",
        "    return distances"
      ]
    },
    {
      "cell_type": "code",
      "execution_count": null,
      "metadata": {
        "id": "NTZ1QvqLQPdG"
      },
      "outputs": [],
      "source": [
        "### TODO 3.2 : E step\n",
        "### For Each data point, assign the label of the nearest center\n",
        "### Return : np array of size N\n",
        "def update_labels(distances):\n",
        "    labels = np.argmin(distances, axis=1)\n",
        "    return labels"
      ]
    },
    {
      "cell_type": "code",
      "execution_count": null,
      "metadata": {
        "id": "jX3EvYMdQPdH"
      },
      "outputs": [],
      "source": [
        "### TODO 4 : M step\n",
        "### Update the centers to the mean of the data points assigned to it\n",
        "### Return : np array of size Kx2\n",
        "def update_centers(data, labels, K):\n",
        "    def mean(i):\n",
        "        return np.mean(data[np.where(labels == i)], axis=0)\n",
        "    updated_fun = np.vectorize(mean, signature='()->(n)')\n",
        "    return updated_fun(np.arange(K))"
      ]
    },
    {
      "cell_type": "code",
      "execution_count": null,
      "metadata": {
        "id": "nBzt-1ChQPdH"
      },
      "outputs": [],
      "source": [
        "### TODO 6 : Check convergence\n",
        "### Check if the labels have changed from the previous iteration\n",
        "### Return : True / False\n",
        "def check_termination(labels1, labels2):\n",
        "    return np.array_equal(labels1, labels2)"
      ]
    },
    {
      "cell_type": "code",
      "execution_count": null,
      "metadata": {
        "id": "waQKEnNfQPdH"
      },
      "outputs": [],
      "source": [
        "### DON'T CHANGE ANYTHING IN THE FOLLOWING FUNCTION\n",
        "def kmeans(data_path:str, K:int, init_centers):\n",
        "    '''\n",
        "    Input :\n",
        "        data (type str): path to the file containing the data\n",
        "        K (type int): number of clusters\n",
        "        init_centers (type numpy.ndarray): initial centers. shape = (K, 2) or None\n",
        "    Output :\n",
        "        centers (type numpy.ndarray): final centers. shape = (K, 2)\n",
        "        labels (type numpy.ndarray): label of each data point. shape = (N,)\n",
        "        time (type float): time taken by the algorithm to converge in seconds\n",
        "    N is the number of data points each of shape (2,)\n",
        "    '''\n",
        "    data = load_data(data_path)\n",
        "    centers = initialise_centers(data, K, init_centers)\n",
        "    labels = initialise_labels(data)\n",
        "\n",
        "    start_time = time.time() # Time stamp\n",
        "\n",
        "    while True:\n",
        "        distances = calculate_distances(data, centers)\n",
        "        labels_new = update_labels(distances)\n",
        "        centers = update_centers(data, labels_new, K)\n",
        "        if check_termination(labels, labels_new): break\n",
        "        else: labels = labels_new\n",
        "\n",
        "    end_time = time.time() # Time stamp after the algorithm ends\n",
        "    return centers, labels, end_time - start_time"
      ]
    },
    {
      "cell_type": "code",
      "execution_count": null,
      "metadata": {
        "id": "-epFf5r-QPdI"
      },
      "outputs": [],
      "source": [
        "### TODO 7\n",
        "def visualise(data_path, labels, centers):\n",
        "    data = load_data(data_path)\n",
        "\n",
        "    # Scatter plot of the data points\n",
        "    plt.scatter(data[:, 0], data[:, 1], c=labels, s=50, cmap='viridis')\n",
        "    plt.scatter(centers[:, 0], centers[:, 1], c='black', s=200, alpha=0.5)\n",
        "\n",
        "    ### Set the title of the plot\n",
        "    plt.title('K-means clustering')\n",
        "\n",
        "    ### Set xlabel as 'Longitude'\n",
        "    plt.xlabel('Longitude')\n",
        "\n",
        "    ### Set ylabel as 'Latitude'\n",
        "    plt.ylabel('Latitude')\n",
        "\n",
        "    ### Save the plot as 'kmeans.png\n",
        "    plt.savefig('kmeans.png')\n",
        "\n",
        "\n",
        "    ## DO NOT CHANGE THE FOLLOWING LINE\n",
        "    return plt"
      ]
    },
    {
      "cell_type": "code",
      "execution_count": null,
      "metadata": {
        "id": "S0JIFXUTQPdJ",
        "outputId": "d741929a-e621-434d-f6e5-f98341fc3e39",
        "colab": {
          "base_uri": "https://localhost:8080/",
          "height": 507
        }
      },
      "outputs": [
        {
          "output_type": "stream",
          "name": "stdout",
          "text": [
            "Time taken for the algorithm to converge: 0.002474069595336914\n"
          ]
        },
        {
          "output_type": "execute_result",
          "data": {
            "text/plain": [
              "<module 'matplotlib.pyplot' from '/usr/local/lib/python3.10/dist-packages/matplotlib/pyplot.py'>"
            ]
          },
          "metadata": {},
          "execution_count": 98
        },
        {
          "output_type": "display_data",
          "data": {
            "text/plain": [
              "<Figure size 640x480 with 1 Axes>"
            ],
            "image/png": "[encoded data removed]"
          },
          "metadata": {}
        }
      ],
      "source": [
        "### After you have completed the above functions, run the following code to generate the plot\n",
        "data_path = 'spice_locations.txt'\n",
        "K, init_centers = 2, None\n",
        "centers, labels, time_taken = kmeans(data_path, K, init_centers)\n",
        "print('Time taken for the algorithm to converge:', time_taken)\n",
        "visualise(data_path, labels, centers)"
      ]
    }
  ],
  "metadata": {
    "kernelspec": {
      "display_name": "Python 3",
      "language": "python",
      "name": "python3"
    },
    "language_info": {
      "codemirror_mode": {
        "name": "ipython",
        "version": 3
      },
      "file_extension": ".py",
      "mimetype": "text/x-python",
      "name": "python",
      "nbconvert_exporter": "python",
      "pygments_lexer": "ipython3",
      "version": "3.10.12"
    },
    "colab": {
      "provenance": [],
      "include_colab_link": true
    }
  },
  "nbformat": 4,
  "nbformat_minor": 0
}